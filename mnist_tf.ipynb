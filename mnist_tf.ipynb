{
 "cells": [
  {
   "cell_type": "code",
   "execution_count": null,
   "metadata": {},
   "outputs": [],
   "source": [
    "from tensorflow.examples.tutorials.mnist import input_data\n",
    "import tensorflow as tf\n",
    "import numpy as np\n",
    "import sonnet as snt\n",
    "# import pdb; pdb.set_trace()"
   ]
  },
  {
   "cell_type": "code",
   "execution_count": null,
   "metadata": {},
   "outputs": [],
   "source": [
    "data = input_data.read_data_sets('data/MNIST_data', one_hot=False)\n",
    "learning_rate = 0.3"
   ]
  },
  {
   "cell_type": "code",
   "execution_count": null,
   "metadata": {},
   "outputs": [],
   "source": [
    "def softmax(x):\n",
    "    S = tf.exp(x)\n",
    "    return S / tf.reduce_sum(S, keep_dims=True)\n",
    "\n",
    "x = tf.placeholder(tf.float32, shape=[None, 784], name='x_values')\n",
    "y = tf.placeholder(tf.int64, shape=[None], name='y_values')\n",
    "\n",
    "num_hidden = 800\n",
    "layer1 = snt.Linear(num_hidden, name='linear1')(x)\n",
    "hidden1 = tf.nn.relu(layer1)\n",
    "hidden2 = tf.nn.relu(hidden1)\n",
    "outputs = snt.Linear(10)(hidden2)"
   ]
  },
  {
   "cell_type": "code",
   "execution_count": null,
   "metadata": {},
   "outputs": [],
   "source": [
    "# Calculate loss\n",
    "one_hot = tf.one_hot(y, 10)\n",
    "probs = softmax(outputs)\n",
    "loss = tf.reduce_mean(tf.nn.softmax_cross_entropy_with_logits(labels=one_hot, logits=outputs))\n",
    "\n",
    "# Create model\n",
    "train_op = tf.train.MomentumOptimizer(learning_rate, 0.1).minimize(loss)\n",
    "\n",
    "# Accuracy\n",
    "prediction_indices = tf.argmax(probs, axis=1)\n",
    "batch_correct = tf.equal(prediction_indices, y)\n",
    "average_accuracy = tf.reduce_mean(tf.cast(batch_correct, tf.float32), name='accuracy')"
   ]
  },
  {
   "cell_type": "code",
   "execution_count": null,
   "metadata": {},
   "outputs": [],
   "source": [
    "# Initialise\n",
    "init = tf.global_variables_initializer()\n",
    "\n",
    "session = tf.Session()\n",
    "session.run(init)"
   ]
  },
  {
   "cell_type": "code",
   "execution_count": null,
   "metadata": {},
   "outputs": [],
   "source": [
    "# Train model\n",
    "for i in range(5000):\n",
    "    _x, _y = data.train.next_batch(100)\n",
    "    training_data = {x: _x, y: _y}\n",
    "\n",
    "    train_results = session.run({'_': train_op, 'loss': loss, 'accuracy': average_accuracy}, feed_dict=training_data)\n",
    "    if i % 100 == 0:\n",
    "        test_data = {x: data.test.images, y: data.test.labels}\n",
    "        test_results = session.run({'loss': loss, 'accuracy': average_accuracy}, feed_dict=test_data)\n",
    "        print('%d: train loss = %f train accuracy = %f test loss = %f test accuracy = %f' % (i, train_results['loss'], 100 * train_results['accuracy'], test_results['loss'], 100 * test_results['accuracy']))                      "
   ]
  },
  {
   "cell_type": "code",
   "execution_count": null,
   "metadata": {},
   "outputs": [],
   "source": [
    "# Results\n",
    "print 'Test loss: %f, Test accuracy: %f%%' % (test_results['loss'], test_results['accuracy'] * 100)"
   ]
  },
  {
   "cell_type": "code",
   "execution_count": null,
   "metadata": {},
   "outputs": [],
   "source": []
  }
 ],
 "metadata": {
  "kernelspec": {
   "display_name": "Python 2",
   "language": "python",
   "name": "python2"
  },
  "language_info": {
   "codemirror_mode": {
    "name": "ipython",
    "version": 2
   },
   "file_extension": ".py",
   "mimetype": "text/x-python",
   "name": "python",
   "nbconvert_exporter": "python",
   "pygments_lexer": "ipython2",
   "version": "2.7.10"
  }
 },
 "nbformat": 4,
 "nbformat_minor": 2
}
